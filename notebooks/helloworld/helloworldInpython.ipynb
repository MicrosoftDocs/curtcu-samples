{
  "cells": [
    {
      "source": [
        "import azureml.core\n",
        "print(azureml.core.VERSION)"
      ],
      "cell_type": "code",
      "outputs": [
        {
          "output_type": "stream",
          "name": "stdout",
          "text": "1.0.85\n"
        }
      ],
      "metadata": {},
      "execution_count": 3
    },
    {
      "cell_type": "markdown",
      "execution_count": null,
      "metadata": {
        "name": "import-markdown",
        "trusted": true
      },
      "outputs": [],
      "source": [
        "# Hello World - markdown"
      ]
    },
    {
      "source": [
        "print('Hello World - code')"
      ],
      "cell_type": "code",
      "outputs": [
        {
          "output_type": "stream",
          "name": "stdout",
          "text": "Hello World - code\n"
        }
      ],
      "metadata": {},
      "execution_count": 4
    },
    {
      "cell_type": "code",
      "execution_count": null,
      "metadata": {
        "trusted": true
      },
      "outputs": [],
      "source": []
    }
  ],
  "metadata": {
    "kernelspec": {
      "name": "python38164bit7eb443a557644021a484dab40bd6f83b",
      "display_name": "Python 3.8.1 64-bit",
      "language": "python"
    },
    "language_info": {
      "mimetype": "text/x-python",
      "nbconvert_exporter": "python",
      "name": "python",
      "pygments_lexer": "ipython3",
      "version": "3.8.1-final",
      "file_extension": ".py",
      "codemirror_mode": {
        "version": 3,
        "name": "ipython"
      }
    }
  },
  "nbformat": 4,
  "nbformat_minor": 2
}